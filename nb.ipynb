{
 "cells": [
  {
   "cell_type": "code",
   "execution_count": 1,
   "metadata": {},
   "outputs": [
    {
     "name": "stdout",
     "output_type": "stream",
     "text": [
      "Target size: (600, 451)\n",
      "Resized and saved project-7.png\n",
      "Resized and saved avatar-1.png\n",
      "Resized and saved project-6.png\n",
      "Resized and saved logo-6-color.png\n",
      "Resized and saved project-4.png\n",
      "Resized and saved avatar-2.png\n",
      "Resized and saved avatar-3.png\n",
      "Resized and saved project-5.png\n",
      "Resized and saved project-2.png\n",
      "Resized and saved avatar-4.png\n",
      "Resized and saved kg1.png\n",
      "Resized and saved project-3.jpg\n",
      "Resized and saved my-avatar.png\n",
      "Resized and saved kg.jpg\n",
      "Resized and saved ecommerce-logo.jpeg\n",
      "Resized and saved logo-1-color.png\n"
     ]
    },
    {
     "name": "stderr",
     "output_type": "stream",
     "text": [
      "/var/folders/ym/79d5qymn2xl0s9vwb1rqpyn00000gn/T/ipykernel_86389/1040665785.py:28: DeprecationWarning: ANTIALIAS is deprecated and will be removed in Pillow 10 (2023-07-01). Use LANCZOS or Resampling.LANCZOS instead.\n",
      "  resized_img = img.resize(target_size, Image.ANTIALIAS)\n"
     ]
    },
    {
     "name": "stdout",
     "output_type": "stream",
     "text": [
      "Resized and saved demo.png\n",
      "Resized and saved Multimedia-Logo-by-Acongraphic-29-580x386.jpg\n",
      "Resized and saved logo-4-color.png\n",
      "Resized and saved blog-6.jpg\n",
      "Resized and saved multiscler.jpeg\n",
      "Resized and saved besant.jpeg\n",
      "Resized and saved blog-5.jpg\n",
      "Resized and saved dental.jpeg\n",
      "Resized and saved blog-4.jpg\n",
      "Resized and saved AvatarMaker-2.png\n",
      "Resized and saved myimage.jpeg\n",
      "Resized and saved Conversational_Analytics_Behavioral_Signals.png\n",
      "Resized and saved karcher-professional-pressure-washerjpg.webp\n",
      "Resized and saved blog-1.jpg\n",
      "Resized and saved logo-2-color.png\n",
      "Resized and saved blog-3.jpg\n",
      "Resized and saved karcher.webp\n",
      "Resized and saved blog-2.jpg\n",
      "Resized and saved package and delivery.jpeg\n",
      "Resized and saved foundever.jpeg\n",
      "Resized and saved logo-5-color.png\n",
      "Resized and saved cosmetic_agent.png\n",
      "Resized and saved Qlik.png\n",
      "Resized and saved law-book-logo.jpg\n",
      "Resized and saved project-8.jpg\n",
      "Resized and saved flcl.jpeg\n",
      "Resized and saved logo-3-color.png\n",
      "Resized and saved project-9.png\n",
      "Resized and saved AvatarMaker.png\n",
      "Resized and saved ags.png\n",
      "Resizing completed!\n"
     ]
    }
   ],
   "source": [
    "from PIL import Image\n",
    "import os\n",
    "\n",
    "# Directory containing images\n",
    "input_dir = 'assets/images/'\n",
    "output_dir = 'resized_images'\n",
    "\n",
    "# Reference image (change this to your reference image)\n",
    "reference_image_path = 'assets/images/project-1.jpg'\n",
    "\n",
    "# Ensure output directory exists\n",
    "os.makedirs(output_dir, exist_ok=True)\n",
    "\n",
    "# Get dimensions of the reference image\n",
    "with Image.open(reference_image_path) as ref_img:\n",
    "    target_size = ref_img.size  # (width, height)\n",
    "    print(f\"Target size: {target_size}\")\n",
    "\n",
    "# Supported image extensions\n",
    "supported_extensions = ('.jpeg', '.jpg', '.png', '.webp')\n",
    "\n",
    "# Resize all images in the input directory\n",
    "for filename in os.listdir(input_dir):\n",
    "    if filename.lower().endswith(supported_extensions) and filename != os.path.basename(reference_image_path):\n",
    "        img_path = os.path.join(input_dir, filename)\n",
    "        with Image.open(img_path) as img:\n",
    "            # Resize image\n",
    "            resized_img = img.resize(target_size, Image.ANTIALIAS)\n",
    "            # Save resized image\n",
    "            output_path = os.path.join(output_dir, filename)\n",
    "            resized_img.save(output_path)\n",
    "            print(f\"Resized and saved {filename}\")\n",
    "\n",
    "print(\"Resizing completed!\")\n"
   ]
  },
  {
   "cell_type": "code",
   "execution_count": null,
   "metadata": {},
   "outputs": [],
   "source": []
  }
 ],
 "metadata": {
  "kernelspec": {
   "display_name": "Python 3 (ipykernel)",
   "language": "python",
   "name": "python3"
  },
  "language_info": {
   "codemirror_mode": {
    "name": "ipython",
    "version": 3
   },
   "file_extension": ".py",
   "mimetype": "text/x-python",
   "name": "python",
   "nbconvert_exporter": "python",
   "pygments_lexer": "ipython3",
   "version": "3.11.5"
  }
 },
 "nbformat": 4,
 "nbformat_minor": 2
}
